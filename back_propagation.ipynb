{
  "nbformat": 4,
  "nbformat_minor": 0,
  "metadata": {
    "colab": {
      "provenance": [],
      "authorship_tag": "ABX9TyO802cgZZBj94gH1T7DKFSS",
      "include_colab_link": true
    },
    "kernelspec": {
      "name": "python3",
      "display_name": "Python 3"
    },
    "language_info": {
      "name": "python"
    }
  },
  "cells": [
    {
      "cell_type": "markdown",
      "metadata": {
        "id": "view-in-github",
        "colab_type": "text"
      },
      "source": [
        "<a href=\"https://colab.research.google.com/github/Chaitrika-Kondle/deeplearninglab/blob/main/back_propagation.ipynb\" target=\"_parent\"><img src=\"https://colab.research.google.com/assets/colab-badge.svg\" alt=\"Open In Colab\"/></a>"
      ]
    },
    {
      "cell_type": "code",
      "execution_count": 1,
      "metadata": {
        "id": "BIJ3G_bLFYAj"
      },
      "outputs": [],
      "source": [
        "from math import exp\n",
        "from random import seed\n",
        "from random import random"
      ]
    },
    {
      "cell_type": "code",
      "source": [
        "# Initialize a network\n",
        "def initialize_network(n_inputs, n_hidden, n_outputs):\n",
        " network = list()\n",
        " hidden_layer = [{'weights':[random() for i in range(n_inputs + 1)]} for i in range(n_hidden)]\n",
        " network.append(hidden_layer)\n",
        " output_layer = [{'weights':[random() for i in range(n_hidden + 1)]} for i in range(n_outputs)]\n",
        " network.append(output_layer)\n",
        " return network"
      ],
      "metadata": {
        "id": "LBObpiq5FjdI"
      },
      "execution_count": 2,
      "outputs": []
    },
    {
      "cell_type": "code",
      "source": [
        "# Calculate neuron activation for an input\n",
        "def activate(weights, inputs):\n",
        " activation = weights[-1]\n",
        " for i in range(len(weights)-1):\n",
        "   activation += weights[i] * inputs[i]\n",
        " return activation"
      ],
      "metadata": {
        "id": "_Up6f59MFn0R"
      },
      "execution_count": 3,
      "outputs": []
    },
    {
      "cell_type": "code",
      "source": [
        "# Transfer neuron activation\n",
        "def transfer(activation):\n",
        " return 1.0 / (1.0 + exp(-activation))"
      ],
      "metadata": {
        "id": "B9yCJZ9SFrrx"
      },
      "execution_count": 4,
      "outputs": []
    },
    {
      "cell_type": "code",
      "source": [
        "def forward_propagate(network, row):\n",
        " inputs = row\n",
        " for layer in network:\n",
        "  new_inputs = []\n",
        "  for neuron in layer:\n",
        "    activation = activate(neuron['weights'], inputs)\n",
        "    neuron['output'] = transfer(activation)\n",
        "    new_inputs.append(neuron['output'])\n",
        "  inputs = new_inputs\n",
        " return inputs"
      ],
      "metadata": {
        "id": "VkQ26nULF1pY"
      },
      "execution_count": 5,
      "outputs": []
    },
    {
      "cell_type": "code",
      "source": [
        "# Calculate the derivative of an neuron output\n",
        "def transfer_derivative(output):\n",
        " return output * (1.0 - output)"
      ],
      "metadata": {
        "id": "HKKPrK9HF3wj"
      },
      "execution_count": 6,
      "outputs": []
    },
    {
      "cell_type": "code",
      "source": [
        "def backward_propagate_error(network, expected):\n",
        " for i in reversed(range(len(network))):\n",
        "  layer = network[i]\n",
        "  errors = list()\n",
        "\n",
        "  if i != len(network)-1:\n",
        "    for j in range(len(layer)):\n",
        "      error = 0.0\n",
        "    for neuron in network[i + 1]:\n",
        "      error += (neuron['weights'][j] * neuron['delta'])\n",
        "      errors.append(error)\n",
        "  else:\n",
        "    for j in range(len(layer)):\n",
        "      neuron = layer[j]\n",
        "      errors.append(neuron['output'] - expected[j])\n",
        "  for j in range(len(layer)):\n",
        "    neuron = layer[j]\n",
        "    neuron['delta'] = errors[j] * transfer_derivative(neuron['output'])"
      ],
      "metadata": {
        "id": "L_JgUGY_F8VQ"
      },
      "execution_count": 7,
      "outputs": []
    },
    {
      "cell_type": "code",
      "source": [
        "\n",
        "def update_weights(network, row, l_rate):\n",
        "    for i in range(len(network)):\n",
        "        inputs = row[:-1]\n",
        "        if i != 0:\n",
        "            inputs = [neuron['output'] for neuron in network[i - 1]]\n",
        "        for neuron in network[i]:\n",
        "            for j in range(len(inputs)):\n",
        "                neuron['weights'][j] += l_rate * neuron['delta'] * inputs[j]\n",
        "            neuron['weights'][-1] += l_rate * neuron['delta']"
      ],
      "metadata": {
        "id": "URNHF2BtGF-5"
      },
      "execution_count": 8,
      "outputs": []
    },
    {
      "cell_type": "code",
      "source": [
        "# Train a network for a fixed number of epochs\n",
        "def train_network(network, train, l_rate, n_epoch, n_outputs):\n",
        "\n",
        "    print(\"\\n Network Training Begins:\\n\")\n",
        "\n",
        "    for epoch in range(n_epoch):\n",
        "        sum_error = 0\n",
        "        for row in train:\n",
        "            outputs = forward_propagate(network, row)\n",
        "            expected = [0 for i in range(n_outputs)]\n",
        "            expected[row[-1]] = 1\n",
        "            sum_error += sum([(expected[i]-outputs[i])**2 for i in range(len(expected))])\n",
        "            backward_propagate_error(network, expected)\n",
        "            update_weights(network, row, l_rate)\n",
        "        print('>epoch=%d, lrate=%.3f, error=%.3f' % (epoch, l_rate, sum_error))\n",
        "\n",
        "    print(\"\\n Network Training Ends:\\n\")"
      ],
      "metadata": {
        "id": "GVTCVHrjGNxK"
      },
      "execution_count": 9,
      "outputs": []
    },
    {
      "cell_type": "code",
      "source": [
        "seed(2)\n",
        "dataset = [[2.7810836,2.550537003,0],\n",
        "    [1.465489372,2.362125076,0],\n",
        "    [3.396561688,4.400293529,0],\n",
        "    [1.38807019,1.850220317,0],\n",
        "    [3.06407232,3.005305973,0],\n",
        "    [7.627531214,2.759262235,1],\n",
        "    [5.332441248,2.088626775,1],\n",
        "    [6.922596716,1.77106367,1],\n",
        "    [8.675418651,-0.242068655,1],\n",
        "    [7.673756466,3.508563011,1]]\n",
        "\n",
        "print(\"\\n The input Data Set :\\n\",dataset)\n",
        "n_inputs = len(dataset[0]) - 1\n",
        "print(\"\\n Number of Inputs :\\n\",n_inputs)\n",
        "n_outputs = len(set([row[-1] for row in dataset]))\n",
        "print(\"\\n Number of Outputs :\\n\",n_outputs)"
      ],
      "metadata": {
        "colab": {
          "base_uri": "https://localhost:8080/"
        },
        "id": "P4Um2NmcGWtC",
        "outputId": "3055e7b8-eb02-495a-d8b3-c3dc7e53c9e4"
      },
      "execution_count": 10,
      "outputs": [
        {
          "output_type": "stream",
          "name": "stdout",
          "text": [
            "\n",
            " The input Data Set :\n",
            " [[2.7810836, 2.550537003, 0], [1.465489372, 2.362125076, 0], [3.396561688, 4.400293529, 0], [1.38807019, 1.850220317, 0], [3.06407232, 3.005305973, 0], [7.627531214, 2.759262235, 1], [5.332441248, 2.088626775, 1], [6.922596716, 1.77106367, 1], [8.675418651, -0.242068655, 1], [7.673756466, 3.508563011, 1]]\n",
            "\n",
            " Number of Inputs :\n",
            " 2\n",
            "\n",
            " Number of Outputs :\n",
            " 2\n"
          ]
        }
      ]
    }
  ]
}